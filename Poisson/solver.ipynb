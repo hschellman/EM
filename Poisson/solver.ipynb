{
 "cells": [
  {
   "cell_type": "markdown",
   "metadata": {},
   "source": [
    "solver for Poisson and Laplace equation in 2D"
   ]
  },
  {
   "cell_type": "markdown",
   "metadata": {},
   "source": [
    "this is from [http://www.eg.bucknell.edu/~mligare/ph333/laplace.html](http://www.eg.bucknell.edu/~mligare/ph333/laplace.html)"
   ]
  },
  {
   "cell_type": "code",
   "execution_count": null,
   "metadata": {},
   "outputs": [],
   "source": [
    "import numpy as np\n",
    "\n",
    "import matplotlib as mpl  \n",
    "import matplotlib.pyplot as plt\n",
    "from mpl_toolkits.mplot3d import Axes3D\n",
    "from matplotlib import cm\n",
    "from matplotlib.ticker import LinearLocator, FormatStrFormatter\n",
    "\n",
    "from matplotlib import colormaps\n"
   ]
  },
  {
   "cell_type": "code",
   "execution_count": null,
   "metadata": {},
   "outputs": [],
   "source": [
    "# Following is an Ipython magic command that puts figures in the  notebook.\n",
    "# For figures in separate windows, comment out following line and uncomment\n",
    "# the next line\n",
    "# Must come before defaults are changed.\n",
    "%matplotlib inline\n",
    "#%matplotlib\n",
    "\n",
    "# As of Aug. 2017 reverting to 1.x defaults.\n",
    "# In 2.x text.ustex requires dvipng, texlive-latex-extra, and texlive-fonts-recommended, \n",
    "# which don't seem to be universal\n",
    "# See https://stackoverflow.com/questions/38906356/error-running-matplotlib-in-latex-type1cm?\n",
    "mpl.style.use('classic')\n",
    "        \n",
    "# M.L. modifications of matplotlib defaults using syntax of v.2.0 \n",
    "# More info at http://matplotlib.org/2.0.0/users/deflt_style_changes.html\n",
    "# Changes can also be put in matplotlibrc file, or effected using mpl.rcParams[]\n",
    "plt.rc('figure', figsize = (6, 4.5))            # Reduces overall size of figures\n",
    "plt.rc('axes', labelsize=16, titlesize=14)\n",
    "plt.rc('figure', autolayout = True)             # Adjusts supblot parameters for new size"
   ]
  },
  {
   "cell_type": "code",
   "execution_count": null,
   "metadata": {},
   "outputs": [],
   "source": [
    "n = 20\n",
    "m = 10\n",
    "target = 1e-6\n",
    "delta = 1"
   ]
  },
  {
   "cell_type": "code",
   "execution_count": null,
   "metadata": {},
   "outputs": [],
   "source": [
    "phi_old = np.zeros([n+1,m+1])\n",
    "phi_old[:, 0] = phi_old[:0] = 0  # Boundary values\n",
    "phi_old[0,:] = 1                 # Boundary values"
   ]
  },
  {
   "cell_type": "code",
   "execution_count": null,
   "metadata": {},
   "outputs": [],
   "source": [
    "plt.figure()\n",
    "plt.xlabel('$y$')\n",
    "plt.ylabel('$x$')\n",
    "plt.title('See Griffiths Fig. 3.18.  Newman Fig. 9.3')\n",
    "plt.imshow(phi_old, cmap='plasma',interpolation='none');"
   ]
  },
  {
   "cell_type": "code",
   "execution_count": null,
   "metadata": {},
   "outputs": [],
   "source": [
    "while delta > target:\n",
    "    phi_new  = (np.roll(phi_old, 1, axis=0) + np.roll(phi_old, -1, axis=0) + np.roll(phi_old, 1, axis=1) \\\n",
    "               + np.roll(phi_old, -1, axis=1))/4\n",
    "    phi_new[:, 0] = phi_new[:,m] = 0  # Restore boundaries\n",
    "    phi_new[n,:] = 0                  # Restore boundary\n",
    "    phi_new[0,:] = 1                  # Restore boundary\n",
    "    delta = np.max(abs(phi_new - phi_old)) \n",
    "    phi_new, phi_old = phi_old, phi_new # phi_new --> phi_old for next iteration\n",
    "    #print(phi_new)\n",
    "     \n",
    "#print(phi)"
   ]
  },
  {
   "cell_type": "code",
   "execution_count": null,
   "metadata": {},
   "outputs": [],
   "source": [
    "#print (phi_old)\n",
    "plt.figure()\n",
    "plt.xlabel('$y$')\n",
    "plt.ylabel('$x$')\n",
    "plt.title('See Griffiths Fig. 3.18.  Newman Fig. 9.3')\n",
    "plt.imshow(phi_old, cmap='plasma',interpolation='none');"
   ]
  },
  {
   "cell_type": "code",
   "execution_count": null,
   "metadata": {},
   "outputs": [],
   "source": [
    "plt.figure()\n",
    "X = np.linspace(0,1,m+1)\n",
    "Y = np.linspace(0, 2, n+1)\n",
    "#CS = plt.contour(X, Y, phi)\n",
    "CS = plt.contour(X, Y, phi_old, levels=[0.1,0.2,0.3,0.4,0.5,0.6,0.7,0.8,0.9])\n",
    "plt.clabel(CS, inline=1, fontsize=10)\n",
    "plt.ylabel('$x$')\n",
    "plt.xlabel('$y$')\n",
    "plt.ylim(0,1);"
   ]
  }
 ],
 "metadata": {
  "language_info": {
   "name": "python"
  }
 },
 "nbformat": 4,
 "nbformat_minor": 2
}
