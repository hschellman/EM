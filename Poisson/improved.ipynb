{
 "cells": [
  {
   "cell_type": "markdown",
   "metadata": {},
   "source": [
    "solver for Poisson and Laplace equation in 2D"
   ]
  },
  {
   "cell_type": "markdown",
   "metadata": {},
   "source": [
    "this is from [http://www.eg.bucknell.edu/~mligare/ph333/laplace.html](http://www.eg.bucknell.edu/~mligare/ph333/laplace.html)"
   ]
  },
  {
   "cell_type": "code",
   "execution_count": null,
   "metadata": {},
   "outputs": [],
   "source": [
    "import numpy as np\n",
    "\n",
    "import matplotlib as mpl  \n",
    "import matplotlib.pyplot as plt\n",
    "from mpl_toolkits.mplot3d import Axes3D\n",
    "from matplotlib import cm\n",
    "from matplotlib.ticker import LinearLocator, FormatStrFormatter\n",
    "\n",
    "from matplotlib import colormaps\n"
   ]
  },
  {
   "cell_type": "code",
   "execution_count": null,
   "metadata": {},
   "outputs": [],
   "source": [
    "def boundary(array):\n",
    "    ''' set the boundary conditions '''\n",
    "    n = array.shape[0]-1\n",
    "    m = array.shape[1]-1\n",
    "    array[:,0] = 0\n",
    "    array[:,m] = 0  # Restore boundaries\n",
    "    array[n,:] = 0                  # Restore boundary\n",
    "    array[0,:] = 1 "
   ]
  },
  {
   "cell_type": "code",
   "execution_count": null,
   "metadata": {},
   "outputs": [],
   "source": [
    "def calculate_4(delta,limit,phi_old):\n",
    "    ''' cross method for calculating the derivative'''\n",
    "    \n",
    "    n = phi_old.shape[0]-1\n",
    "    m = phi_old.shape[1]-1\n",
    "    count = 0 \n",
    "    while delta > limit:\n",
    "        count += 1\n",
    "        phi_new = (np.roll(phi_old, 1, axis=0) + np.roll(phi_old, -1, axis=0) + np.roll(phi_old, 1, axis=1) \\\n",
    "                + np.roll(phi_old, -1, axis=1))/4\n",
    "        # phi_new[:, 0] = phi_new[:,m] = 0  # Restore boundaries\n",
    "        # phi_new[n,:] = 0                  # Restore boundary\n",
    "        # phi_new[0,:] = 1                  # Restore boundary\n",
    "        boundary(phi_new)\n",
    "        delta = np.max(abs(phi_new - phi_old)) \n",
    "        #print (\"delta is\",delta,phi_old[1,20],phi_new[1,20])\n",
    "        phi_new, phi_old = phi_old, phi_new # phi_new--> phi_old for next iteration\n",
    "    return phi_old,count\n"
   ]
  },
  {
   "cell_type": "code",
   "execution_count": null,
   "metadata": {},
   "outputs": [],
   "source": [
    "def calculate(delta,limit,phi_old):\n",
    "    ''' implements the improved method from Jackson'''\n",
    "    n = phi_old.shape[0]-1\n",
    "    m = phi_old.shape[1]-1\n",
    "    count = 0\n",
    "    while delta > limit:\n",
    "        count +=1\n",
    "        cross = (np.roll(phi_old, 1, axis=0) + np.roll(phi_old, -1, axis=0) + np.roll(phi_old, 1, axis=1) \\\n",
    "                + np.roll(phi_old, -1, axis=1))/4.\n",
    "        square = (np.roll(np.roll(phi_old, 1, axis=0),1,axis=1) +\\\n",
    "                   np.roll(np.roll(phi_old, 1, axis=0),-1,axis=1) +\\\n",
    "                     np.roll(np.roll(phi_old, -1, axis=0),1,axis=1)+ \\\n",
    "                      np.roll(np.roll(phi_old, -1, axis=0),-1,axis=1))/4.\n",
    "        phi_new = cross*.8 + square*.2\n",
    "        \n",
    "        boundary(phi_new)\n",
    "        delta = np.max(abs(phi_new - phi_old)) \n",
    "        #print (\"delta is\",delta,phi_old[1,int(m/2)],phi_new[1,int(m/2)])\n",
    "        phi_new, phi_old = phi_old, phi_new # phi_new--> phi_old for next iteration\n",
    "    return phi_old,count\n"
   ]
  },
  {
   "cell_type": "code",
   "execution_count": null,
   "metadata": {},
   "outputs": [],
   "source": [
    "# Following is an Ipython magic command that puts figures in the  notebook.\n",
    "# For figures in separate windows, comment out following line and uncomment\n",
    "# the next line\n",
    "# Must come before defaults are changed.\n",
    "%matplotlib inline\n",
    "#%matplotlib\n",
    "\n",
    "# As of Aug. 2017 reverting to 1.x defaults.\n",
    "# In 2.x text.ustex requires dvipng, texlive-latex-extra, and texlive-fonts-recommended, \n",
    "# which don't seem to be universal\n",
    "# See https://stackoverflow.com/questions/38906356/error-running-matplotlib-in-latex-type1cm?\n",
    "mpl.style.use('classic')\n",
    "        \n",
    "# M.L. modifications of matplotlib defaults using syntax of v.2.0 \n",
    "# More info at http://matplotlib.org/2.0.0/users/deflt_style_changes.html\n",
    "# Changes can also be put in matplotlibrc file, or effected using mpl.rcParams[]\n",
    "plt.rc('figure', figsize = (9, 4.5*1.5))            # Reduces overall size of figures\n",
    "plt.rc('axes', labelsize=16, titlesize=14)\n",
    "plt.rc('figure', autolayout = True)             # Adjusts supblot parameters for new size"
   ]
  },
  {
   "cell_type": "markdown",
   "metadata": {},
   "source": []
  },
  {
   "cell_type": "markdown",
   "metadata": {},
   "source": [
    "Set size of array, target error and starting error"
   ]
  },
  {
   "cell_type": "code",
   "execution_count": null,
   "metadata": {},
   "outputs": [],
   "source": [
    "n = 50\n",
    "m = 25\n",
    "target = 1e-6\n",
    "delta = 1"
   ]
  },
  {
   "cell_type": "markdown",
   "metadata": {},
   "source": [
    "Set up an array - we will be using 2.  Note setting of bounday conditions"
   ]
  },
  {
   "cell_type": "code",
   "execution_count": null,
   "metadata": {},
   "outputs": [],
   "source": [
    "phi_old = np.zeros([n+1,m+1])\n",
    "print (phi_old.shape)\n",
    "boundary(phi_old)\n",
    "#phi_old[:, 0] = phi_old[:0] = 0  # Boundary values\n",
    "#phi_old[0,:] = 1                 # Boundary values"
   ]
  },
  {
   "cell_type": "markdown",
   "metadata": {},
   "source": [
    "Draw the initial system"
   ]
  },
  {
   "cell_type": "code",
   "execution_count": null,
   "metadata": {},
   "outputs": [],
   "source": [
    "plt.figure()\n",
    "plt.xlabel('$y$')\n",
    "plt.ylabel('$x$')\n",
    "plt.title('See Griffiths Fig. 3.18.  Newman Fig. 9.3')\n",
    "fig = plt.imshow(phi_old, cmap='plasma',interpolation='none');\n",
    "cb = plt.contour(phi_old,levels=[0.0,0.1,0.2,0.3,0.4,0.5,0.6,0.7,0.8,0.9,1.0]);\n",
    "cbar = plt.colorbar(fig);\n",
    "cbar2 = plt.colorbar(cb);"
   ]
  },
  {
   "cell_type": "markdown",
   "metadata": {},
   "source": [
    "Loop until delta < target\n",
    "\n",
    "Note the use of roll to find adjacent cells\n",
    "\n",
    "Note also that one is alternating between new and old arrays so that a full update is done, not the rolling updates one would do if one was memory constrained. \n",
    "\n",
    "note also that boundary conditions are reset each time instead of using if statements - probably faster!\n"
   ]
  },
  {
   "cell_type": "markdown",
   "metadata": {},
   "source": [
    "Do a start"
   ]
  },
  {
   "cell_type": "code",
   "execution_count": null,
   "metadata": {},
   "outputs": [],
   "source": [
    "total = 0\n",
    "\n",
    "phi_old,count = calculate(delta=delta,limit=0.1,phi_old=phi_old)\n",
    "total += count\n",
    "print (\"Total is\",total)\n",
    "\n",
    "#print (phi_old)\n",
    "plt.figure()\n",
    "plt.xlabel('$y$')\n",
    "plt.ylabel('$x$')\n",
    "plt.title('See Griffiths Fig. 3.18.  Newman Fig. 9.3')\n",
    "fig = plt.imshow(phi_old, cmap='plasma',interpolation='none');\n",
    "cb = plt.contour(phi_old,levels=[0.0,0.1,0.2,0.3,0.4,0.5,0.6,0.7,0.8,0.9,1.0]);\n",
    "cbar = plt.colorbar(fig);\n",
    "cbar2 = plt.colorbar(cb);"
   ]
  },
  {
   "cell_type": "code",
   "execution_count": null,
   "metadata": {},
   "outputs": [],
   "source": [
    "phi_old,count  = calculate(delta=delta,limit=0.01,phi_old=phi_old)\n",
    "total += count\n",
    "print (\"Total is\",total)\n",
    "#print(phi)\n",
    "\n",
    "#print (phi_old)\n",
    "plt.figure()\n",
    "plt.xlabel('$y$')\n",
    "plt.ylabel('$x$')\n",
    "plt.title('See Griffiths Fig. 3.18.  Newman Fig. 9.3')\n",
    "fig = plt.imshow(phi_old, cmap='plasma',interpolation='none');\n",
    "cb = plt.contour(phi_old,levels=[0.0,0.1,0.2,0.3,0.4,0.5,0.6,0.7,0.8,0.9,1.0]);\n",
    "cbar = plt.colorbar(fig);\n",
    "cbar2 = plt.colorbar(cb);"
   ]
  },
  {
   "cell_type": "code",
   "execution_count": null,
   "metadata": {},
   "outputs": [],
   "source": [
    "phi_old,count = calculate(delta=delta,limit=0.001,phi_old=phi_old)\n",
    "total += count\n",
    "print (\"Total is\",total)\n",
    "\n",
    "#print (phi_old)\n",
    "plt.figure()\n",
    "plt.xlabel('$y$')\n",
    "plt.ylabel('$x$')\n",
    "plt.title('See Griffiths Fig. 3.18.  Newman Fig. 9.3')\n",
    "fig = plt.imshow(phi_old, cmap='plasma',interpolation='none');\n",
    "cb = plt.contour(phi_old,levels=[0.0,0.1,0.2,0.3,0.4,0.5,0.6,0.7,0.8,0.9,1.0]);\n",
    "cbar = plt.colorbar(fig);\n",
    "cbar2 = plt.colorbar(cb);"
   ]
  },
  {
   "cell_type": "code",
   "execution_count": null,
   "metadata": {},
   "outputs": [],
   "source": [
    "phi_old,count  = calculate(delta=delta,limit=0.0001,phi_old=phi_old)\n",
    "total += count\n",
    "print (\"Total is\",total)\n",
    "\n",
    "#print (phi_old)\n",
    "plt.figure()\n",
    "plt.xlabel('$y$')\n",
    "plt.ylabel('$x$')\n",
    "plt.title('See Griffiths Fig. 3.18.  Newman Fig. 9.3')\n",
    "fig = plt.imshow(phi_old, cmap='plasma',interpolation='none');\n",
    "cb = plt.contour(phi_old,levels=[0.0,0.1,0.2,0.3,0.4,0.5,0.6,0.7,0.8,0.9,1.0]);\n",
    "cbar = plt.colorbar(fig);\n",
    "cbar2 = plt.colorbar(cb);"
   ]
  },
  {
   "cell_type": "code",
   "execution_count": null,
   "metadata": {},
   "outputs": [],
   "source": [
    "phi_old,count = calculate(delta=delta,limit=0.00001,phi_old=phi_old)\n",
    "total += count\n",
    "print (\"Total is\",total)\n",
    "\n",
    "#print (phi_old)\n",
    "plt.figure()\n",
    "plt.xlabel('$y$')\n",
    "plt.ylabel('$x$')\n",
    "plt.title('See Griffiths Fig. 3.18.  Newman Fig. 9.3')\n",
    "fig = plt.imshow(phi_old, cmap='plasma',interpolation='none');\n",
    "cb = plt.contour(phi_old,levels=[0.0,0.1,0.2,0.3,0.4,0.5,0.6,0.7,0.8,0.9,1.0]);\n",
    "cbar = plt.colorbar(fig);\n",
    "cbar2 = plt.colorbar(cb);"
   ]
  },
  {
   "cell_type": "markdown",
   "metadata": {},
   "source": [
    "Plot the output"
   ]
  },
  {
   "cell_type": "markdown",
   "metadata": {},
   "source": [
    "Now go for precision by setting delta < target"
   ]
  },
  {
   "cell_type": "code",
   "execution_count": null,
   "metadata": {},
   "outputs": [],
   "source": [
    "phi_old,count  = calculate(delta=delta,limit=0.000001,phi_old=phi_old)\n",
    "total += count\n",
    "print (\"Total is\",total)"
   ]
  },
  {
   "cell_type": "code",
   "execution_count": null,
   "metadata": {},
   "outputs": [],
   "source": [
    "#print (phi_old)\n",
    "plt.figure()\n",
    "plt.xlabel('$y$')\n",
    "plt.ylabel('$x$')\n",
    "plt.title('See Griffiths Fig. 3.18.  Newman Fig. 9.3')\n",
    "fig = plt.imshow(phi_old, cmap='plasma',interpolation='none');\n",
    "cb = plt.contour(phi_old,levels=[0.0,0.1,0.2,0.3,0.4,0.5,0.6,0.7,0.8,0.9,1.0]);\n",
    "cbar = plt.colorbar(fig);\n",
    "cbar2 = plt.colorbar(cb);\n"
   ]
  },
  {
   "cell_type": "code",
   "execution_count": null,
   "metadata": {},
   "outputs": [],
   "source": [
    "plt.figure()\n",
    "X = np.linspace(0,1,m+1)\n",
    "Y = np.linspace(0,2,n+1)\n",
    "#CS = plt.contour(X, Y, phi)\n",
    "CS = plt.contour(X, Y, phi_old, levels=[0.1,0.2,0.3,0.4,0.5,0.6,0.7,0.8,0.9])\n",
    "plt.clabel(CS, inline=1, fontsize=10)\n",
    "plt.ylabel('$x$')\n",
    "plt.xlabel('$y$')\n",
    "plt.ylim(0,1);"
   ]
  }
 ],
 "metadata": {
  "language_info": {
   "name": "python"
  }
 },
 "nbformat": 4,
 "nbformat_minor": 4
}
